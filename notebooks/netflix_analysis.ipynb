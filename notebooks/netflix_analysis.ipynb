import pandas as pd
import matplotlib.pyplot as plt
import seaborn as sns

# Load cleaned dataset
df = pd.read_csv('../cleaned_data/netflix_cleaned.csv')

# 1. Content Type Distribution
plt.figure(figsize=(6,4))
sns.countplot(x='type', data=df)
plt.title('Content Type Distribution')
plt.savefig('../visuals/content_type_distribution.png')
plt.show()

# 2. Genre Distribution
plt.figure(figsize=(10,6))
sns.countplot(y='listed_in', data=df, order=df['listed_in'].value_counts().index)
plt.title('Distribution of Genres')
plt.savefig('../visuals/genre_distribution.png')
plt.show()

# 3. Titles Added Per Year
df['date_added'] = pd.to_datetime(df['date_added'], errors='coerce')
df['year_added'] = pd.DatetimeIndex(df['date_added']).year
plt.figure(figsize=(10,6))
sns.countplot(x='year_added', data=df)
plt.title('Number of Titles Added Per Year')
plt.savefig('../visuals/content_by_year.png')
plt.show()

# 4. Top 10 Directors
top_directors = df['director'].value_counts().head(10)
plt.figure(figsize=(10,6))
sns.barplot(x=top_directors.values, y=top_directors.index)
plt.title('Top 10 Directors')
plt.savefig('../visuals/top_directors.png')
plt.show()
